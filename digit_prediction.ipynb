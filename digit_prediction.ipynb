{
  "nbformat": 4,
  "nbformat_minor": 0,
  "metadata": {
    "colab": {
      "provenance": [],
      "gpuType": "T4"
    },
    "kernelspec": {
      "name": "python3",
      "display_name": "Python 3"
    },
    "language_info": {
      "name": "python"
    },
    "accelerator": "GPU"
  },
  "cells": [
    {
      "cell_type": "code",
      "source": [
        "import tensorflow as tf\n",
        "model = tf.keras.models.load_model('/content/my_model.h5')"
      ],
      "metadata": {
        "id": "GjspijrqRDlJ"
      },
      "execution_count": 33,
      "outputs": []
    },
    {
      "cell_type": "code",
      "source": [
        "import cv2\n",
        "import numpy as np\n",
        "\n",
        "def image_preprocess(image_path):\n",
        "  #convert to gray scale\n",
        "  image = cv2.imread(image_path, cv2.IMREAD_GRAYSCALE)/255\n",
        "\n",
        "  image = cv2.resize(image,(28,28))\n",
        "\n",
        "  image = image.reshape((1,28,28,1))\n",
        "\n",
        "  return image"
      ],
      "metadata": {
        "id": "2psoQKOTTB-r"
      },
      "execution_count": 34,
      "outputs": []
    },
    {
      "cell_type": "code",
      "source": [
        "def image_prediction(image_path):\n",
        "  image = image_preprocess(image_path)\n",
        "\n",
        "  prediction = model.predict(image)\n",
        "\n",
        "  ans = np.where(prediction == prediction.max())\n",
        "\n",
        "  print(f\"The prediction of image is {ans},{prediction}\")"
      ],
      "metadata": {
        "id": "tilC4piSTUh4"
      },
      "execution_count": 35,
      "outputs": []
    },
    {
      "cell_type": "code",
      "source": [
        "img_path = '/content/words.jpg'\n",
        "image_prediction(img_path)"
      ],
      "metadata": {
        "colab": {
          "base_uri": "https://localhost:8080/"
        },
        "id": "OY9X0CueTgf9",
        "outputId": "7bfe9852-29fd-4bef-f8a9-3c84e2d535b5"
      },
      "execution_count": 37,
      "outputs": [
        {
          "output_type": "stream",
          "name": "stdout",
          "text": [
            "1/1 [==============================] - 0s 19ms/step\n",
            "The prediction of image is (array([0]), array([1])),[[4.2166136e-02 7.9572812e-02 8.0100177e-03 2.6594201e-02 5.0491891e-03\n",
            "  1.5579845e-02 6.0788989e-02 6.0102064e-04 5.4783572e-02 3.3285504e-03\n",
            "  6.6255170e-06 7.1454123e-03 2.1874210e-02 2.5684861e-03 4.3243580e-03\n",
            "  5.4935380e-03 8.4562512e-04 3.2243136e-08 4.1015573e-02 7.9141539e-03\n",
            "  1.7316699e-05 3.7121666e-03 3.1450203e-05 1.0892865e-03 4.2765930e-02\n",
            "  2.6555061e-02 3.6076754e-02 1.2383390e-04 3.3174116e-02 1.1458654e-03\n",
            "  1.4720171e-02 2.0915777e-03 3.0397614e-03 1.0437371e-06 3.9421087e-03\n",
            "  1.0412841e-03 7.3998719e-02 1.9570686e-02 4.3774438e-03 3.4592655e-02\n",
            "  5.8559250e-02 1.8137399e-03 8.3777150e-03 1.6016286e-04 3.0430105e-02\n",
            "  4.2445168e-02 2.2908433e-05 2.9447574e-02 2.3606735e-06 2.5957397e-03\n",
            "  1.0651868e-02 2.0006536e-02 6.4988062e-03 1.3219613e-02 1.1103228e-02\n",
            "  5.1730115e-02 7.4716099e-03 3.0117049e-03 7.0826765e-03 6.3242442e-05\n",
            "  3.6672850e-03 1.9090199e-03]]\n"
          ]
        }
      ]
    },
    {
      "cell_type": "code",
      "source": [],
      "metadata": {
        "id": "THilFllWTjej"
      },
      "execution_count": null,
      "outputs": []
    }
  ]
}