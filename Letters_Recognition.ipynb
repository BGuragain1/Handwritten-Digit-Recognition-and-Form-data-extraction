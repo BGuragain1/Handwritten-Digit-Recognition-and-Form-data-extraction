{
  "nbformat": 4,
  "nbformat_minor": 0,
  "metadata": {
    "colab": {
      "provenance": [],
      "gpuType": "T4"
    },
    "kernelspec": {
      "name": "python3",
      "display_name": "Python 3"
    },
    "language_info": {
      "name": "python"
    },
    "accelerator": "GPU"
  },
  "cells": [
    {
      "cell_type": "code",
      "source": [
        "!pip install emnist"
      ],
      "metadata": {
        "colab": {
          "base_uri": "https://localhost:8080/"
        },
        "id": "sNnca8Uk9eBZ",
        "outputId": "f3b01df7-9e60-4a6b-8bf9-560ea4a6f224"
      },
      "execution_count": 4,
      "outputs": [
        {
          "output_type": "stream",
          "name": "stdout",
          "text": [
            "Requirement already satisfied: emnist in /usr/local/lib/python3.10/dist-packages (0.0)\n",
            "Requirement already satisfied: numpy in /usr/local/lib/python3.10/dist-packages (from emnist) (1.23.5)\n",
            "Requirement already satisfied: requests in /usr/local/lib/python3.10/dist-packages (from emnist) (2.31.0)\n",
            "Requirement already satisfied: tqdm in /usr/local/lib/python3.10/dist-packages (from emnist) (4.66.1)\n",
            "Requirement already satisfied: charset-normalizer<4,>=2 in /usr/local/lib/python3.10/dist-packages (from requests->emnist) (3.3.2)\n",
            "Requirement already satisfied: idna<4,>=2.5 in /usr/local/lib/python3.10/dist-packages (from requests->emnist) (3.6)\n",
            "Requirement already satisfied: urllib3<3,>=1.21.1 in /usr/local/lib/python3.10/dist-packages (from requests->emnist) (2.0.7)\n",
            "Requirement already satisfied: certifi>=2017.4.17 in /usr/local/lib/python3.10/dist-packages (from requests->emnist) (2023.11.17)\n"
          ]
        }
      ]
    },
    {
      "cell_type": "code",
      "execution_count": 5,
      "metadata": {
        "id": "6ZHtkpaoBVp0"
      },
      "outputs": [],
      "source": [
        "import tensorflow as tf\n",
        "from tensorflow import keras\n",
        "from keras import Sequential\n",
        "from keras.layers import Conv2D, MaxPooling2D, Dense, BatchNormalization, Flatten, Dropout\n",
        "from keras.utils import to_categorical\n",
        "import emnist"
      ]
    },
    {
      "cell_type": "code",
      "source": [
        "(x_train, y_train), (x_test, y_test) = emnist.extract_training_samples('letters'), emnist.extract_test_samples('letters')"
      ],
      "metadata": {
        "id": "GzjijjcH8Cuh"
      },
      "execution_count": 6,
      "outputs": []
    },
    {
      "cell_type": "code",
      "source": [
        "x_train.shape"
      ],
      "metadata": {
        "colab": {
          "base_uri": "https://localhost:8080/"
        },
        "id": "bia_U32yAi3v",
        "outputId": "bc8275aa-2b9f-40fb-eea6-62e490c654b4"
      },
      "execution_count": 7,
      "outputs": [
        {
          "output_type": "execute_result",
          "data": {
            "text/plain": [
              "(124800, 28, 28)"
            ]
          },
          "metadata": {},
          "execution_count": 7
        }
      ]
    },
    {
      "cell_type": "code",
      "source": [
        "y_train.shape"
      ],
      "metadata": {
        "colab": {
          "base_uri": "https://localhost:8080/"
        },
        "id": "U5wlgWNs9tGb",
        "outputId": "1c9d604a-d770-48d6-b1f8-d9d9c97321ad"
      },
      "execution_count": 8,
      "outputs": [
        {
          "output_type": "execute_result",
          "data": {
            "text/plain": [
              "(124800,)"
            ]
          },
          "metadata": {},
          "execution_count": 8
        }
      ]
    },
    {
      "cell_type": "code",
      "source": [
        "y_train = to_categorical(y_train)\n",
        "y_test = to_categorical(y_test)"
      ],
      "metadata": {
        "id": "MeYeGWcQ9xLw"
      },
      "execution_count": 9,
      "outputs": []
    },
    {
      "cell_type": "code",
      "source": [
        "x_train = x_train.reshape((124800, 28, 28, 1))\n",
        "x_test = x_test.reshape((20800,28,28,1))"
      ],
      "metadata": {
        "id": "4RTR0-B--CYp"
      },
      "execution_count": 10,
      "outputs": []
    },
    {
      "cell_type": "code",
      "source": [
        "x_train.shape"
      ],
      "metadata": {
        "colab": {
          "base_uri": "https://localhost:8080/"
        },
        "id": "0H3hcBkHAnqW",
        "outputId": "4a6d2f32-8be7-4711-fe98-a3fc3cdd81cc"
      },
      "execution_count": 11,
      "outputs": [
        {
          "output_type": "execute_result",
          "data": {
            "text/plain": [
              "(124800, 28, 28, 1)"
            ]
          },
          "metadata": {},
          "execution_count": 11
        }
      ]
    },
    {
      "cell_type": "code",
      "source": [
        "x_train[0].shape"
      ],
      "metadata": {
        "colab": {
          "base_uri": "https://localhost:8080/"
        },
        "id": "EigqXv1cBIYI",
        "outputId": "27bd9cfe-adf9-48b8-eb82-512563f661f6"
      },
      "execution_count": 12,
      "outputs": [
        {
          "output_type": "execute_result",
          "data": {
            "text/plain": [
              "(28, 28, 1)"
            ]
          },
          "metadata": {},
          "execution_count": 12
        }
      ]
    },
    {
      "cell_type": "code",
      "source": [
        "x_train, x_test = x_train / 255.0, x_test / 255.0"
      ],
      "metadata": {
        "id": "Eo_vqA73BMwN"
      },
      "execution_count": 13,
      "outputs": []
    },
    {
      "cell_type": "code",
      "source": [
        "# Build the model\n",
        "model = Sequential()\n",
        "\n",
        "model.add(Conv2D(32,kernel_size=(3,3), padding=\"valid\",activation=\"relu\",input_shape=(28,28,1)))\n",
        "model.add(BatchNormalization())\n",
        "model.add(MaxPooling2D(pool_size=(2,2), strides = 2 , padding='valid'))\n",
        "\n",
        "model.add(Conv2D(32,kernel_size=(3,3), padding=\"valid\",activation=\"relu\"))\n",
        "model.add(BatchNormalization())\n",
        "model.add(MaxPooling2D(pool_size=(2,2), strides = 1 , padding='valid'))\n",
        "\n",
        "model.add(Flatten())\n",
        "\n",
        "model.add(Dense(128,activation=\"relu\"))\n",
        "model.add(Dropout(0.1))\n",
        "model.add(Dense(64,activation=\"relu\"))\n",
        "model.add(Dropout(0.1))\n",
        "model.add(Dense(27,activation=\"sigmoid\"))"
      ],
      "metadata": {
        "id": "RpApjEQoBpPp"
      },
      "execution_count": 14,
      "outputs": []
    },
    {
      "cell_type": "code",
      "source": [
        "model.summary()"
      ],
      "metadata": {
        "colab": {
          "base_uri": "https://localhost:8080/"
        },
        "id": "izE2LhbJBx34",
        "outputId": "29160b46-7cc1-475a-838f-9c0ebe17404a"
      },
      "execution_count": 15,
      "outputs": [
        {
          "output_type": "stream",
          "name": "stdout",
          "text": [
            "Model: \"sequential\"\n",
            "_________________________________________________________________\n",
            " Layer (type)                Output Shape              Param #   \n",
            "=================================================================\n",
            " conv2d (Conv2D)             (None, 26, 26, 32)        320       \n",
            "                                                                 \n",
            " batch_normalization (Batch  (None, 26, 26, 32)        128       \n",
            " Normalization)                                                  \n",
            "                                                                 \n",
            " max_pooling2d (MaxPooling2  (None, 13, 13, 32)        0         \n",
            " D)                                                              \n",
            "                                                                 \n",
            " conv2d_1 (Conv2D)           (None, 11, 11, 32)        9248      \n",
            "                                                                 \n",
            " batch_normalization_1 (Bat  (None, 11, 11, 32)        128       \n",
            " chNormalization)                                                \n",
            "                                                                 \n",
            " max_pooling2d_1 (MaxPoolin  (None, 10, 10, 32)        0         \n",
            " g2D)                                                            \n",
            "                                                                 \n",
            " flatten (Flatten)           (None, 3200)              0         \n",
            "                                                                 \n",
            " dense (Dense)               (None, 128)               409728    \n",
            "                                                                 \n",
            " dropout (Dropout)           (None, 128)               0         \n",
            "                                                                 \n",
            " dense_1 (Dense)             (None, 64)                8256      \n",
            "                                                                 \n",
            " dropout_1 (Dropout)         (None, 64)                0         \n",
            "                                                                 \n",
            " dense_2 (Dense)             (None, 27)                1755      \n",
            "                                                                 \n",
            "=================================================================\n",
            "Total params: 429563 (1.64 MB)\n",
            "Trainable params: 429435 (1.64 MB)\n",
            "Non-trainable params: 128 (512.00 Byte)\n",
            "_________________________________________________________________\n"
          ]
        }
      ]
    },
    {
      "cell_type": "code",
      "source": [
        "# Compile the model\n",
        "model.compile(optimizer='adam',\n",
        "              loss='categorical_crossentropy',\n",
        "              metrics=['accuracy'])"
      ],
      "metadata": {
        "id": "q-YCP59vBzP8"
      },
      "execution_count": 16,
      "outputs": []
    },
    {
      "cell_type": "code",
      "source": [
        "history = model.fit(x_train, y_train, epochs=5, validation_data=(x_test, y_test))"
      ],
      "metadata": {
        "colab": {
          "base_uri": "https://localhost:8080/"
        },
        "id": "6WggnpRSB1zL",
        "outputId": "95afff8e-b685-4740-a5b9-43790854684a"
      },
      "execution_count": 17,
      "outputs": [
        {
          "output_type": "stream",
          "name": "stdout",
          "text": [
            "Epoch 1/5\n",
            "3900/3900 [==============================] - 25s 5ms/step - loss: 0.4924 - accuracy: 0.8477 - val_loss: 0.2695 - val_accuracy: 0.9152\n",
            "Epoch 2/5\n",
            "3900/3900 [==============================] - 21s 5ms/step - loss: 0.2785 - accuracy: 0.9099 - val_loss: 0.2432 - val_accuracy: 0.9215\n",
            "Epoch 3/5\n",
            "3900/3900 [==============================] - 19s 5ms/step - loss: 0.2311 - accuracy: 0.9247 - val_loss: 0.2085 - val_accuracy: 0.9330\n",
            "Epoch 4/5\n",
            "3900/3900 [==============================] - 26s 7ms/step - loss: 0.2038 - accuracy: 0.9315 - val_loss: 0.2192 - val_accuracy: 0.9287\n",
            "Epoch 5/5\n",
            "3900/3900 [==============================] - 20s 5ms/step - loss: 0.1841 - accuracy: 0.9375 - val_loss: 0.2048 - val_accuracy: 0.9365\n"
          ]
        }
      ]
    },
    {
      "cell_type": "code",
      "source": [
        "# Evaluate the model\n",
        "test_loss, test_acc = model.evaluate(x_test, y_test)\n",
        "print(f'Test accuracy: {test_acc}')"
      ],
      "metadata": {
        "colab": {
          "base_uri": "https://localhost:8080/"
        },
        "id": "2WMb0SyvDNRd",
        "outputId": "1e22489c-ecab-486f-fc5f-5213cca248ec"
      },
      "execution_count": 18,
      "outputs": [
        {
          "output_type": "stream",
          "name": "stdout",
          "text": [
            "650/650 [==============================] - 2s 2ms/step - loss: 0.2048 - accuracy: 0.9365\n",
            "Test accuracy: 0.9364903569221497\n"
          ]
        }
      ]
    },
    {
      "cell_type": "code",
      "source": [
        "import matplotlib.pyplot as plt\n",
        "# Plot training history\n",
        "plt.plot(history.history['accuracy'], label='accuracy')\n",
        "plt.plot(history.history['val_accuracy'], label = 'val_accuracy')\n",
        "plt.xlabel('Epoch')\n",
        "plt.ylabel('Accuracy')\n",
        "plt.ylim([0, 1])\n",
        "plt.legend(loc='lower right')\n",
        "plt.show()"
      ],
      "metadata": {
        "colab": {
          "base_uri": "https://localhost:8080/",
          "height": 455
        },
        "id": "hMS9-yCTB445",
        "outputId": "9098ded0-039b-4704-820d-96c4563e9419"
      },
      "execution_count": 19,
      "outputs": [
        {
          "output_type": "display_data",
          "data": {
            "text/plain": [
              "<Figure size 640x480 with 1 Axes>"
            ],
            "image/png": "[encoded data removed]"
          },
          "metadata": {}
        }
      ]
    },
    {
      "cell_type": "code",
      "source": [
        "import cv2\n",
        "import matplotlib.pyplot as plt\n",
        "import numpy as np\n",
        "import string"
      ],
      "metadata": {
        "id": "mZRv6uJgDV0Q"
      },
      "execution_count": 97,
      "outputs": []
    },
    {
      "cell_type": "code",
      "source": [
        "# Create a list of all small letters\n",
        "small_letters = list(string.ascii_lowercase)\n",
        "small_letters.insert(0,'N/A')"
      ],
      "metadata": {
        "id": "eJw2MGM534Qb"
      },
      "execution_count": 98,
      "outputs": []
    },
    {
      "cell_type": "code",
      "source": [
        "image_path = '/content/B.jpg'"
      ],
      "metadata": {
        "id": "HF6mn6UEf2jN"
      },
      "execution_count": 239,
      "outputs": []
    },
    {
      "cell_type": "code",
      "source": [
        "original_image = cv2.imread(image_path)\n",
        "original_image = cv2.imread(image_path, cv2.IMREAD_GRAYSCALE)"
      ],
      "metadata": {
        "id": "dsoI_80Ar48M"
      },
      "execution_count": 240,
      "outputs": []
    },
    {
      "cell_type": "code",
      "source": [
        "plt.imshow(original_image)"
      ],
      "metadata": {
        "colab": {
          "base_uri": "https://localhost:8080/",
          "height": 451
        },
        "id": "FzoXG2Y3s1Ys",
        "outputId": "73b7da16-e681-47c7-d4c9-9da010ce94d5"
      },
      "execution_count": 241,
      "outputs": [
        {
          "output_type": "execute_result",
          "data": {
            "text/plain": [
              "<matplotlib.image.AxesImage at 0x7f72f8876200>"
            ]
          },
          "metadata": {},
          "execution_count": 241
        },
        {
          "output_type": "display_data",
          "data": {
            "text/plain": [
              "<Figure size 640x480 with 1 Axes>"
            ],
            "image/png": "[encoded data removed]"
          },
          "metadata": {}
        }
      ]
    },
    {
      "cell_type": "code",
      "source": [
        "original_image = cv2.resize(original_image,(28,28))"
      ],
      "metadata": {
        "id": "vpey0bja1N7U"
      },
      "execution_count": 242,
      "outputs": []
    },
    {
      "cell_type": "code",
      "source": [
        "original_image = original_image/255"
      ],
      "metadata": {
        "id": "bHx-wxy64kOi"
      },
      "execution_count": 243,
      "outputs": []
    },
    {
      "cell_type": "code",
      "source": [
        "test_img = original_image.reshape((1,28,28,1))"
      ],
      "metadata": {
        "id": "I2fHcCRn4d3r"
      },
      "execution_count": 244,
      "outputs": []
    },
    {
      "cell_type": "code",
      "source": [
        "prediction = model.predict(test_img)\n",
        "ans = np.where(prediction == prediction.max())"
      ],
      "metadata": {
        "colab": {
          "base_uri": "https://localhost:8080/"
        },
        "id": "0ivPphsg07MI",
        "outputId": "a39988be-335a-4115-d683-67484f3baae7"
      },
      "execution_count": 245,
      "outputs": [
        {
          "output_type": "stream",
          "name": "stdout",
          "text": [
            "1/1 [==============================] - 0s 23ms/step\n"
          ]
        }
      ]
    },
    {
      "cell_type": "code",
      "source": [
        "prediction"
      ],
      "metadata": {
        "colab": {
          "base_uri": "https://localhost:8080/"
        },
        "id": "hBl3ISiK5PbB",
        "outputId": "edc723b5-23d4-499c-e680-78f2b52e8597"
      },
      "execution_count": 246,
      "outputs": [
        {
          "output_type": "execute_result",
          "data": {
            "text/plain": [
              "array([[2.3891722e-11, 9.4939733e-01, 9.8775184e-01, 1.5754566e-02,\n",
              "        3.6744434e-01, 7.7137536e-01, 8.3326530e-03, 9.9796247e-01,\n",
              "        2.7302713e-05, 7.5218675e-04, 1.5071772e-02, 9.0798085e-06,\n",
              "        5.0234626e-04, 5.2756408e-05, 6.6795470e-03, 8.8742721e-01,\n",
              "        8.1293958e-01, 9.9782604e-01, 4.5700662e-02, 3.1932852e-01,\n",
              "        4.7133927e-04, 2.6756749e-04, 4.6967791e-05, 2.0974645e-04,\n",
              "        2.8498310e-03, 1.0243583e-02, 2.6584101e-01]], dtype=float32)"
            ]
          },
          "metadata": {},
          "execution_count": 246
        }
      ]
    },
    {
      "cell_type": "code",
      "source": [
        "print(f\"The prediction is {small_letters[ans[1][0]]}\")"
      ],
      "metadata": {
        "colab": {
          "base_uri": "https://localhost:8080/"
        },
        "id": "9UY3fJfg3CjV",
        "outputId": "84b08f8c-630c-413b-b785-62ff8c08f808"
      },
      "execution_count": 247,
      "outputs": [
        {
          "output_type": "stream",
          "name": "stdout",
          "text": [
            "The prediction is g\n"
          ]
        }
      ]
    },
    {
      "cell_type": "code",
      "source": [
        "def image_preprocess(image_path):\n",
        "  #convert to gray scale\n",
        "  image = cv2.imread(image_path, cv2.IMREAD_GRAYSCALE)/255\n",
        "\n",
        "  image = cv2.resize(image,(28,28))\n",
        "\n",
        "  image = image.reshape((1,28,28,1))\n",
        "\n",
        "  return image"
      ],
      "metadata": {
        "id": "8h59WdX265P3"
      },
      "execution_count": 230,
      "outputs": []
    },
    {
      "cell_type": "code",
      "source": [
        "def image_prediction(image_path):\n",
        "  image = image_preprocess(image_path)\n",
        "\n",
        "  prediction = model.predict(image)\n",
        "  ans = np.where(prediction == prediction.max())\n",
        "\n",
        "  print(f\"The prediction of image is {small_letters[ans[1][0]]}\")"
      ],
      "metadata": {
        "id": "D5DfnBEj7b4V"
      },
      "execution_count": 231,
      "outputs": []
    },
    {
      "cell_type": "code",
      "source": [
        "img_path = '/content/B.jpg'\n",
        "image_prediction(img_path)"
      ],
      "metadata": {
        "colab": {
          "base_uri": "https://localhost:8080/"
        },
        "id": "lZdEIuRG7pBT",
        "outputId": "7b1ffffa-1ccc-452e-c7de-203ad66cd74b"
      },
      "execution_count": 232,
      "outputs": [
        {
          "output_type": "stream",
          "name": "stdout",
          "text": [
            "1/1 [==============================] - 0s 77ms/step\n",
            "The prediction of image is g\n"
          ]
        }
      ]
    },
    {
      "cell_type": "code",
      "source": [],
      "metadata": {
        "id": "BoTLQfO-7ugf"
      },
      "execution_count": null,
      "outputs": []
    }
  ]
}