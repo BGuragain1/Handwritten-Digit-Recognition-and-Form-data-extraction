{
  "nbformat": 4,
  "nbformat_minor": 0,
  "metadata": {
    "colab": {
      "provenance": [],
      "gpuType": "T4"
    },
    "kernelspec": {
      "name": "python3",
      "display_name": "Python 3"
    },
    "language_info": {
      "name": "python"
    },
    "accelerator": "GPU"
  },
  "cells": [
    {
      "cell_type": "code",
      "source": [
        "import tensorflow as tf\n",
        "import cv2\n",
        "import numpy as np\n",
        "import matplotlib.pyplot as plt\n",
        "model = tf.keras.models.load_model('/content/my_model.h5')"
      ],
      "metadata": {
        "id": "GjspijrqRDlJ"
      },
      "execution_count": 1,
      "outputs": []
    },
    {
      "cell_type": "code",
      "source": [
        "from PIL import Image"
      ],
      "metadata": {
        "id": "rFhVVZK6djGb"
      },
      "execution_count": 3,
      "outputs": []
    },
    {
      "cell_type": "code",
      "source": [
        "arr = [\"0\", \"1\", \"2\", \"3\", \"4\", \"5\", \"6\", \"7\", \"8\", \"9\", \"A\", \"B\", \"C\", \"D\", \"E\", \"F\", \"G\", \"H\", \"I\", \"J\", \"K\", \"L\", \"M\", \"N\", \"O\", \"P\", \"Q\", \"R\", \"S\", \"T\", \"U\", \"V\", \"W\", \"X\", \"Y\", \"Z\", \"a\", \"b\", \"d\", \"e\", \"f\", \"g\", \"h\", \"n\", \"q\", \"r\", \"t\"]"
      ],
      "metadata": {
        "id": "d_4CgPYQYp2e"
      },
      "execution_count": 4,
      "outputs": []
    },
    {
      "cell_type": "code",
      "source": [
        "def image_preprocess(image_path):\n",
        "  #convert to gray scale\n",
        "  input_image = Image.open(image_path)\n",
        "\n",
        "  resized_image = input_image.resize((28, 28))\n",
        "\n",
        "  gray_image = resized_image.convert('L')\n",
        "\n",
        "  plt.imshow(gray_image,cmap=\"gray\")\n",
        "\n",
        "  normalized_image = np.array(gray_image) / 255.0\n",
        "\n",
        "  reshaped_image = normalized_image.reshape((1, 28, 28, 1))\n",
        "\n",
        "  return reshaped_image"
      ],
      "metadata": {
        "id": "2psoQKOTTB-r"
      },
      "execution_count": 5,
      "outputs": []
    },
    {
      "cell_type": "code",
      "source": [
        "def image_prediction(image_path):\n",
        "\n",
        "  image = image_preprocess(image_path)\n",
        "\n",
        "  prediction = model.predict(image)\n",
        "\n",
        "  ans = np.argmax(prediction)\n",
        "\n",
        "  print(f\"The prediction of image is {arr[ans]}\")"
      ],
      "metadata": {
        "id": "tilC4piSTUh4"
      },
      "execution_count": 8,
      "outputs": []
    },
    {
      "cell_type": "code",
      "source": [
        "img_path = '/content/a.jpg'\n",
        "image_prediction(img_path)"
      ],
      "metadata": {
        "colab": {
          "base_uri": "https://localhost:8080/",
          "height": 465
        },
        "id": "OY9X0CueTgf9",
        "outputId": "07781501-2fb9-46fd-fe03-b920af3fb371"
      },
      "execution_count": 14,
      "outputs": [
        {
          "output_type": "stream",
          "name": "stdout",
          "text": [
            "1/1 [==============================] - 0s 26ms/step\n",
            "The prediction of image is I\n"
          ]
        },
        {
          "output_type": "display_data",
          "data": {
            "text/plain": [
              "<Figure size 640x480 with 1 Axes>"
            ],
            "image/png": "[encoded data removed]"
          },
          "metadata": {}
        }
      ]
    },
    {
      "cell_type": "code",
      "source": [],
      "metadata": {
        "id": "4tVrZK9gGx1N"
      },
      "execution_count": 7,
      "outputs": []
    }
  ]
}